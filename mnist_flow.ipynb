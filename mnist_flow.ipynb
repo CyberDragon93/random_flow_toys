{
 "cells": [
  {
   "cell_type": "markdown",
   "id": "30d4d992",
   "metadata": {},
   "source": [
    "## TODO\n",
    "\n",
    "Try flow MNIST with UNet MLP, UNet / DiT"
   ]
  },
  {
   "cell_type": "code",
   "execution_count": 22,
   "id": "23f20ccb",
   "metadata": {},
   "outputs": [],
   "source": [
    "import math\n",
    "import numpy as np\n",
    "import torch\n",
    "import torch.utils.checkpoint\n",
    "import torchvision\n",
    "\n",
    "from torchvision import transforms\n",
    "from tqdm.auto import tqdm\n",
    "\n",
    "from rectified_flow.rectified_flow import RectifiedFlow\n",
    "from rectified_flow.utils import match_dim_with_data\n",
    "\n",
    "device = torch.device(\"cuda\" if torch.cuda.is_available() else \"cpu\")\n",
    "torch.backends.cuda.matmul.allow_tf32 = True\n",
    "torch.backends.cudnn.allow_tf32 = True"
   ]
  },
  {
   "cell_type": "markdown",
   "id": "b48eb2cd",
   "metadata": {
    "vscode": {
     "languageId": "sql"
    }
   },
   "source": [
    "## Load dataset, model, optimizer"
   ]
  },
  {
   "cell_type": "code",
   "execution_count": null,
   "id": "a0fa14fe",
   "metadata": {},
   "outputs": [],
   "source": [
    "batch_size = 512\n",
    "\n",
    "transform_list = [\n",
    "    transforms.ToTensor(),\n",
    "    transforms.Normalize((0.5,), (0.5,)),\n",
    "    transforms.RandomHorizontalFlip(),\n",
    "]\n",
    "train_dataset = torchvision.datasets.MNIST(\n",
    "    root=\"./data\", train=True, download=True, transform=transforms.Compose(transform_list)\n",
    ")\n",
    "\n",
    "train_dataloader = torch.utils.data.DataLoader(\n",
    "    train_dataset,\n",
    "    batch_size=batch_size,\n",
    "    shuffle=True,\n",
    "    num_workers=0,          \n",
    "    pin_memory=True,\n",
    "    persistent_workers=False,\n",
    ")\n",
    "\n",
    "batch = next(iter(train_dataloader))\n",
    "print(batch[0].shape)  # torch.Size([256, 1, 28, 28])"
   ]
  },
  {
   "cell_type": "code",
   "execution_count": 14,
   "id": "817da497",
   "metadata": {},
   "outputs": [
    {
     "name": "stdout",
     "output_type": "stream",
     "text": [
      "Number of parameters in flow model: 7,042,945\n"
     ]
    }
   ],
   "source": [
    "model_type = \"unet\"    # \"mlp\" or \"unet\" or \"dit\"\n",
    "from rectified_flow.models.enhanced_mlp import VarMLP\n",
    "from rectified_flow.models.utils import EMAModel\n",
    "\n",
    "if model_type == \"mlp\":\n",
    "    from rectified_flow.models.enhanced_mlp import MLPVelocity\n",
    "    flow_model = MLPVelocity(\n",
    "        dim=28*28,\n",
    "    )\n",
    "    data_shape = (28*28,)\n",
    "elif model_type == \"unet\":\n",
    "    from rectified_flow.models.unet import SongUNet, SongUNetConfig\n",
    "    config = SongUNetConfig(\n",
    "        img_resolution = 28,\n",
    "        in_channels = 1,                  # Number of color channels at input.\n",
    "        out_channels = 1,                 # Number of color channels at output.\n",
    "        label_dim = 0,                    # Number of class labels, 0 = unconditional.\n",
    "        augment_dim = 0,                   # Augmentation label dimensionality, 0 = no augmentation.\n",
    "\n",
    "        model_channels = 64,               # Base multiplier for the number of channels.\n",
    "        channel_mult = [2, 2],               # Channel multipliers for each resolution.\n",
    "        channel_mult_emb = 2,                # Multiplier for the dimensionality of the embedding vector.\n",
    "        num_blocks = 3,                      # Number of residual blocks per resolution.\n",
    "        attn_resolutions = [16],             # Resolutions at which to apply attention.\n",
    "        dropout = 0.13,                      # Dropout probability of intermediate activations.\n",
    "        label_dropout = 0.0,                 # Dropout probability of class labels for classifier-free guidance.\n",
    "        embedding_type = \"positional\",        # Timestep embedding type: 'positional' or 'fourier'.\n",
    "        channel_mult_time = 1,                 # Timestep embedding size: 1 for DDPM++, 2 for NCSN++.\n",
    "        encoder_type = \"standard\",              # Encoder architecture: 'standard' or 'residual'.\n",
    "        decoder_type = \"standard\",              # Decoder architecture: 'standard' or 'residual'.\n",
    "        resample_filter = [1, 1]\n",
    "    )\n",
    "    flow_model = SongUNet(config)\n",
    "    data_shape = (1, 28, 28)\n",
    "elif model_type == \"dit\":\n",
    "    raise NotImplementedError\n",
    "else:\n",
    "    raise ValueError(f\"Unknown model type: {model_type}\")\n",
    "\n",
    "logvar = VarMLP().to(device)\n",
    "flow_model = flow_model.to(device)\n",
    "\n",
    "print(f\"Number of parameters in flow model: {sum(p.numel() for p in flow_model.parameters() if p.requires_grad):,}\")\n",
    "\n",
    "ema_flow = EMAModel(flow_model, ema_halflife_kimg=1.0, ema_rampup_ratio=0.05)\n",
    "\n",
    "optimizer = torch.optim.AdamW(\n",
    "    list(flow_model.parameters()) + list(logvar.parameters()),\n",
    "    lr=1e-4, weight_decay=0.0,\n",
    "    betas=(0.9, 0.95)\n",
    ")\n",
    "\n",
    "compiled_flow = torch.compile(flow_model, mode=\"reduce-overhead\", fullgraph=False, dynamic=False)\n",
    "compiled_logvar = torch.compile(logvar, mode=\"reduce-overhead\", fullgraph=False, dynamic=False)\n",
    "\n",
    "compiled_flow.train(); compiled_logvar.train()\n",
    "optimizer.zero_grad()"
   ]
  },
  {
   "cell_type": "markdown",
   "id": "13e4fcfb",
   "metadata": {},
   "source": [
    "## Train Unconditional Generation"
   ]
  },
  {
   "cell_type": "code",
   "execution_count": 25,
   "id": "b88c3bc0",
   "metadata": {},
   "outputs": [
    {
     "name": "stdout",
     "output_type": "stream",
     "text": [
      "torch.Size([512, 1, 28, 28]) torch.Size([512, 1, 28, 28]) torch.Size([512, 1, 28, 28])\n",
      "torch.Size([512, 1, 1, 1]) torch.Size([512, 1, 1, 1])\n",
      "Initial test loss: 2.2703\n"
     ]
    }
   ],
   "source": [
    "rf_train = RectifiedFlow(\n",
    "    data_shape=data_shape,\n",
    "    velocity_field=compiled_flow,\n",
    "    train_time_distribution=\"uniform\",\n",
    "    device=device,\n",
    ")\n",
    "\n",
    "epoch = 2000\n",
    "cur_nimg = 0\n",
    "\n",
    "try:\n",
    "    from tqdm.auto import tqdm\n",
    "except Exception:\n",
    "    from tqdm import tqdm\n",
    "\n",
    "def safe_tqdm_write(msg: str):\n",
    "    try:\n",
    "        tqdm.write(msg)\n",
    "    except Exception:\n",
    "        print(msg)\n",
    "\n",
    "zero_to_none = True\n",
    "grad_clip_norm = None\n",
    "\n",
    "global_step = 0\n",
    "running_loss = None\n",
    "smooth_alpha = 0.9\n",
    "\n",
    "# test model\n",
    "with torch.no_grad():\n",
    "    batch = next(iter(train_dataloader))\n",
    "    x_1, c = batch\n",
    "    x_1 = x_1.to(device, non_blocking=True).reshape(x_1.shape[0], *data_shape)\n",
    "    x_0 = torch.randn_like(x_1)\n",
    "    t = rf_train.sample_train_time(x_1.shape[0]).to(device, non_blocking=True)\n",
    "    v_pred = flow_model(x_1, t)\n",
    "    print(x_1.shape, x_0.shape, v_pred.shape)\n",
    "    log_var = logvar(t)[:, None, None, None]  # [B] or [B,1]\n",
    "    denom = torch.exp(log_var)\n",
    "    print(log_var.shape, denom.shape)\n",
    "    sq_err = (v_pred - (x_1 - x_0)).pow(2).sum(dim=1)\n",
    "    loss = (sq_err / denom + log_var).mean()\n",
    "    safe_tqdm_write(f\"Initial test loss: {loss.item():.4f}\")"
   ]
  },
  {
   "cell_type": "code",
   "execution_count": null,
   "id": "70af5e77",
   "metadata": {},
   "outputs": [
    {
     "data": {
      "application/vnd.jupyter.widget-view+json": {
       "model_id": "2a0d812f601f4b5a9ab290a0d7a2acc0",
       "version_major": 2,
       "version_minor": 0
      },
      "text/plain": [
       "Epochs:   0%|          | 0/2000 [00:00<?, ?it/s]"
      ]
     },
     "metadata": {},
     "output_type": "display_data"
    },
    {
     "data": {
      "application/vnd.jupyter.widget-view+json": {
       "model_id": "262f2e827fd545e19447daf21b0f231b",
       "version_major": 2,
       "version_minor": 0
      },
      "text/plain": [
       "ep 1/2000:   0%|          | 0/118 [00:00<?, ?it/s]"
      ]
     },
     "metadata": {},
     "output_type": "display_data"
    },
    {
     "name": "stderr",
     "output_type": "stream",
     "text": [
      "skipping cudagraphs due to skipping cudagraphs due to cpu device (primals_21). Found from : \n",
      "   File \"/scratch/10992/liaorunlong93/random_flow_toys/rectified_flow/models/unet.py\", line 387, in forward\n",
      "    x = block(x, emb) if isinstance(block, UNetBlock) else block(x)\n",
      "  File \"/scratch/10992/liaorunlong93/random_flow_toys/rectified_flow/models/unet.py\", line 185, in forward\n",
      "    x = x * self.skip_scale\n",
      "\n"
     ]
    },
    {
     "name": "stdout",
     "output_type": "stream",
     "text": [
      "[epoch 1/2000] steps=118  loss=-0.1737  loss_ema=-0.1266\n"
     ]
    },
    {
     "data": {
      "application/vnd.jupyter.widget-view+json": {
       "model_id": "01ba3ebaa6744053970d8e53307c60a4",
       "version_major": 2,
       "version_minor": 0
      },
      "text/plain": [
       "ep 2/2000:   0%|          | 0/118 [00:00<?, ?it/s]"
      ]
     },
     "metadata": {},
     "output_type": "display_data"
    },
    {
     "name": "stdout",
     "output_type": "stream",
     "text": [
      "[epoch 2/2000] steps=236  loss=-0.4085  loss_ema=-0.5344\n"
     ]
    },
    {
     "data": {
      "application/vnd.jupyter.widget-view+json": {
       "model_id": "e6335d008b494079abd0b314235950c8",
       "version_major": 2,
       "version_minor": 0
      },
      "text/plain": [
       "ep 3/2000:   0%|          | 0/118 [00:00<?, ?it/s]"
      ]
     },
     "metadata": {},
     "output_type": "display_data"
    },
    {
     "name": "stdout",
     "output_type": "stream",
     "text": [
      "[epoch 3/2000] steps=354  loss=-0.4682  loss_ema=-0.5758\n"
     ]
    },
    {
     "data": {
      "application/vnd.jupyter.widget-view+json": {
       "model_id": "698fa049fcb34c9c90524797ac899756",
       "version_major": 2,
       "version_minor": 0
      },
      "text/plain": [
       "ep 4/2000:   0%|          | 0/118 [00:00<?, ?it/s]"
      ]
     },
     "metadata": {},
     "output_type": "display_data"
    },
    {
     "name": "stdout",
     "output_type": "stream",
     "text": [
      "[epoch 4/2000] steps=472  loss=-0.6043  loss_ema=-0.6104\n"
     ]
    },
    {
     "data": {
      "application/vnd.jupyter.widget-view+json": {
       "model_id": "7913819a669147d3abd9031c967fad87",
       "version_major": 2,
       "version_minor": 0
      },
      "text/plain": [
       "ep 5/2000:   0%|          | 0/118 [00:00<?, ?it/s]"
      ]
     },
     "metadata": {},
     "output_type": "display_data"
    },
    {
     "name": "stdout",
     "output_type": "stream",
     "text": [
      "[epoch 5/2000] steps=590  loss=-0.6638  loss_ema=-0.6406\n"
     ]
    },
    {
     "data": {
      "application/vnd.jupyter.widget-view+json": {
       "model_id": "5a5198ee8b964eed8971a58d24732df7",
       "version_major": 2,
       "version_minor": 0
      },
      "text/plain": [
       "ep 6/2000:   0%|          | 0/118 [00:00<?, ?it/s]"
      ]
     },
     "metadata": {},
     "output_type": "display_data"
    },
    {
     "name": "stdout",
     "output_type": "stream",
     "text": [
      "[epoch 6/2000] steps=708  loss=-0.6402  loss_ema=-0.6491\n"
     ]
    },
    {
     "data": {
      "application/vnd.jupyter.widget-view+json": {
       "model_id": "66fc139d8aee426bb05440df710de7d0",
       "version_major": 2,
       "version_minor": 0
      },
      "text/plain": [
       "ep 7/2000:   0%|          | 0/118 [00:00<?, ?it/s]"
      ]
     },
     "metadata": {},
     "output_type": "display_data"
    },
    {
     "name": "stdout",
     "output_type": "stream",
     "text": [
      "[epoch 7/2000] steps=826  loss=-0.6332  loss_ema=-0.6570\n"
     ]
    },
    {
     "data": {
      "application/vnd.jupyter.widget-view+json": {
       "model_id": "eeba29adf02142759f8477da631d02e2",
       "version_major": 2,
       "version_minor": 0
      },
      "text/plain": [
       "ep 8/2000:   0%|          | 0/118 [00:00<?, ?it/s]"
      ]
     },
     "metadata": {},
     "output_type": "display_data"
    },
    {
     "name": "stdout",
     "output_type": "stream",
     "text": [
      "[epoch 8/2000] steps=944  loss=-0.6871  loss_ema=-0.6781\n"
     ]
    },
    {
     "data": {
      "application/vnd.jupyter.widget-view+json": {
       "model_id": "e2466b98373a4a09955c70e8213ca27f",
       "version_major": 2,
       "version_minor": 0
      },
      "text/plain": [
       "ep 9/2000:   0%|          | 0/118 [00:00<?, ?it/s]"
      ]
     },
     "metadata": {},
     "output_type": "display_data"
    },
    {
     "name": "stdout",
     "output_type": "stream",
     "text": [
      "[epoch 9/2000] steps=1,062  loss=-0.6933  loss_ema=-0.6794\n"
     ]
    },
    {
     "data": {
      "application/vnd.jupyter.widget-view+json": {
       "model_id": "1bcb7f668c214341b9d3c0ca522b7d50",
       "version_major": 2,
       "version_minor": 0
      },
      "text/plain": [
       "ep 10/2000:   0%|          | 0/118 [00:00<?, ?it/s]"
      ]
     },
     "metadata": {},
     "output_type": "display_data"
    },
    {
     "name": "stdout",
     "output_type": "stream",
     "text": [
      "[epoch 10/2000] steps=1,180  loss=-0.7149  loss_ema=-0.6835\n"
     ]
    },
    {
     "data": {
      "application/vnd.jupyter.widget-view+json": {
       "model_id": "b87b32c6834347719f7c86067acee044",
       "version_major": 2,
       "version_minor": 0
      },
      "text/plain": [
       "ep 11/2000:   0%|          | 0/118 [00:00<?, ?it/s]"
      ]
     },
     "metadata": {},
     "output_type": "display_data"
    },
    {
     "name": "stdout",
     "output_type": "stream",
     "text": [
      "[epoch 11/2000] steps=1,298  loss=-0.7261  loss_ema=-0.6799\n"
     ]
    },
    {
     "data": {
      "application/vnd.jupyter.widget-view+json": {
       "model_id": "229513e4550346d0bdab83e332f12450",
       "version_major": 2,
       "version_minor": 0
      },
      "text/plain": [
       "ep 12/2000:   0%|          | 0/118 [00:00<?, ?it/s]"
      ]
     },
     "metadata": {},
     "output_type": "display_data"
    }
   ],
   "source": [
    "for ep in tqdm(range(epoch), desc=\"Epochs\", position=0):\n",
    "    pbar = tqdm(train_dataloader, desc=f\"ep {ep+1}/{epoch}\", leave=False, position=1)\n",
    "    for step, batch in enumerate(pbar):\n",
    "        optimizer.zero_grad(set_to_none=zero_to_none)\n",
    "\n",
    "        x_1, c = batch\n",
    "        x_1 = x_1.to(device, non_blocking=True).reshape(x_1.shape[0], *data_shape)\n",
    "        x_0 = torch.randn_like(x_1)\n",
    "        t = rf_train.sample_train_time(x_1.shape[0]).to(device, non_blocking=True)\n",
    "\n",
    "        with torch.autocast(device_type=\"cuda\", dtype=torch.bfloat16):\n",
    "            x_t, dot_x_t = rf_train.get_interpolation(x_0=x_0, x_1=x_1, t=t)\n",
    "            v_pred = rf_train.get_velocity(x_t, t)\n",
    "            log_var = compiled_logvar(t)  # [B] or [B,1]\n",
    "            log_var = log_var[:, None, None, None]  # match data shape\n",
    "\n",
    "        mse_loss = torch.nn.functional.mse_loss(v_pred.detach(), dot_x_t.detach())\n",
    "        denom = torch.exp(log_var)\n",
    "        sq_err = (v_pred - dot_x_t).pow(2).sum(dim=1)\n",
    "        loss = (sq_err / denom + log_var).mean()\n",
    "\n",
    "        loss.backward()\n",
    "\n",
    "        if grad_clip_norm is not None:\n",
    "            torch.nn.utils.clip_grad_norm_(rf_train.parameters(), grad_clip_norm)\n",
    "\n",
    "        optimizer.step()\n",
    "\n",
    "        global_step += 1\n",
    "        cur_nimg += x_1.shape[0]\n",
    "        ema_flow.update(cur_nimg=cur_nimg, batch_size=x_1.shape[0])\n",
    "\n",
    "        loss_val = float(loss.detach().item())\n",
    "        running_loss = loss_val if running_loss is None else smooth_alpha * running_loss + (1 - smooth_alpha) * loss_val\n",
    "\n",
    "        pbar.set_postfix({\n",
    "            \"mse_loss\": f\"{mse_loss:.4f}\",\n",
    "            \"logvar_loss\": f\"{loss_val:.4f}\",\n",
    "            \"logvar_loss_ema\": f\"{running_loss:.4f}\",\n",
    "            \"steps\": global_step\n",
    "        })\n",
    "\n",
    "    safe_tqdm_write(f\"[epoch {ep+1}/{epoch}] steps={global_step:,} mse_loss={mse_loss:.4f} logvar_loss={loss_val:.4f} logvar_loss_ema={running_loss:.4f}\")\n",
    "\n",
    "print(f\"Training done. Total steps: {global_step:,}, last loss: {loss_val:.4f}, EMA: {running_loss:.4f}\")"
   ]
  }
 ],
 "metadata": {
  "kernelspec": {
   "display_name": "vista-ml",
   "language": "python",
   "name": "python3"
  },
  "language_info": {
   "codemirror_mode": {
    "name": "ipython",
    "version": 3
   },
   "file_extension": ".py",
   "mimetype": "text/x-python",
   "name": "python",
   "nbconvert_exporter": "python",
   "pygments_lexer": "ipython3",
   "version": "3.11.13"
  }
 },
 "nbformat": 4,
 "nbformat_minor": 5
}
